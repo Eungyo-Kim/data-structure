{
 "cells": [
  {
   "cell_type": "markdown",
   "metadata": {},
   "source": [
    "시작 노드 앞에 head pointer  \n",
    "연결리스트에서 class Node 설정"
   ]
  },
  {
   "cell_type": "code",
   "execution_count": 18,
   "metadata": {},
   "outputs": [
    {
     "name": "stdout",
     "output_type": "stream",
     "text": [
      "다현 정연 쯔위 사나 지효 "
     ]
    }
   ],
   "source": [
    "class Node():\n",
    "    def __init__(self):\n",
    "        self.data=None\n",
    "        self.link=None\n",
    "\n",
    "node1=Node()\n",
    "node1.data=\"다현\"\n",
    "\n",
    "node2=Node()\n",
    "node2.data=\"정연\"\n",
    "node1.link=node2 #첫 번째 노드의 링크에 두 번재 노드를 넣어 연결\n",
    "\n",
    "node3=Node()\n",
    "node3.data=\"쯔위\"\n",
    "node2.link=node3\n",
    "\n",
    "node4=Node()\n",
    "node4.data=\"사나\"\n",
    "node3.link=node4\n",
    "\n",
    "node5=Node()\n",
    "node5.data=\"지효\"\n",
    "node4.link=node5\n",
    "\n",
    "print(node1.data, end=' ')\n",
    "print(node1.link.data, end=' ')\n",
    "print(node1.link.link.data, end=' ')\n",
    "print(node1.link.link.link.data, end=' ')\n",
    "print(node1.link.link.link.link.data, end=' ')\n"
   ]
  },
  {
   "cell_type": "code",
   "execution_count": 19,
   "metadata": {},
   "outputs": [
    {
     "name": "stdout",
     "output_type": "stream",
     "text": [
      "다현 정연 쯔위 사나 지효 "
     ]
    }
   ],
   "source": [
    "current=node1\n",
    "print(current.data, end=' ')\n",
    "while(current.link != None) :\n",
    "    current=current.link\n",
    "    print(current.data, end=' ')"
   ]
  },
  {
   "cell_type": "markdown",
   "metadata": {},
   "source": [
    "데이터 삽입"
   ]
  },
  {
   "cell_type": "code",
   "execution_count": 20,
   "metadata": {},
   "outputs": [],
   "source": [
    "new_node=Node()\n",
    "new_node.data=\"재남\"\n",
    "node2.link=new_node\n",
    "new_node.link=node3\n"
   ]
  },
  {
   "cell_type": "markdown",
   "metadata": {},
   "source": [
    "데이터 삭제"
   ]
  },
  {
   "cell_type": "code",
   "execution_count": 21,
   "metadata": {},
   "outputs": [],
   "source": [
    "#연결 먼저 해주고, 지우기\n",
    "node2.link=node4\n",
    "del(node3)"
   ]
  },
  {
   "cell_type": "markdown",
   "metadata": {},
   "source": [
    "일반구현"
   ]
  },
  {
   "cell_type": "code",
   "execution_count": 23,
   "metadata": {},
   "outputs": [
    {
     "name": "stdout",
     "output_type": "stream",
     "text": [
      "다현 "
     ]
    }
   ],
   "source": [
    "class Node():\n",
    "    def __init__ (self):\n",
    "        self.data=None\n",
    "        self.link=None\n",
    "    \n",
    "def printNodes(start):\n",
    "    current=start\n",
    "    if current==None:\n",
    "         return\n",
    "    print(current.data, end=' ')\n",
    "    while current.link !=None:\n",
    "        current=current.link\n",
    "        print(current.data, end=' ')\n",
    "\n",
    "memory=[]\n",
    "head, current, pre=None, None, None\n",
    "dataArray=[\"다현\", \"정연\", \"쯔위\", \"사나\", \"지효\"]\n",
    "\n",
    "if __name__==\"__main__\":\n",
    "\n",
    "    node=Node()\n",
    "    node.data=dataArray[0]\n",
    "    head=node\n",
    "    memory.append(node)\n",
    "\n",
    "    for data in dataArray[1:]:\n",
    "        pre=None\n",
    "        node=Node()\n",
    "        node.data=data\n",
    "        memory.append(node)\n",
    "        \n",
    "    printNodes(head)"
   ]
  },
  {
   "cell_type": "code",
   "execution_count": 34,
   "metadata": {},
   "outputs": [
    {
     "name": "stdout",
     "output_type": "stream",
     "text": [
      "다현 정연 쯔위 사나 지효 \n",
      "화사 다현 정연 쯔위 사나 지효 \n",
      "화사 다현 정연 쯔위 솔라 사나 지효 \n",
      "화사 다현 정연 쯔위 솔라 사나 지효 \n"
     ]
    }
   ],
   "source": [
    "\n",
    "class Node():\n",
    "    def __init__ (self):\n",
    "        self.data=None\n",
    "        self.link=None\n",
    "\n",
    "def printNodes(start):\n",
    "    current=start\n",
    "    if current==None:\n",
    "         return\n",
    "    print(current.data, end=' ')\n",
    "    while current.link !=None:\n",
    "        current=current.link\n",
    "        print(current.data, end=' ')\n",
    "    print( )\n",
    "\n",
    "\n",
    "def insert_node(find, insert):\n",
    "    global memory, head, current, pre\n",
    "\n",
    "    if head.data ==find: #첫 번째 노드 삽입\n",
    "        node=Node()\n",
    "        node.data=insert\n",
    "        node.link=head\n",
    "        head=node\n",
    "        return\n",
    "    \n",
    "    current=head\n",
    "    while current.link !=None: #중간 노드 삽입 \n",
    "        pre=current\n",
    "        current=current.link\n",
    "        if current.data==find:\n",
    "            node=Node()\n",
    "            node.data=insert\n",
    "            node.link=current\n",
    "            pre.link=node\n",
    "            return\n",
    "    \n",
    "    node=Node()\n",
    "\n",
    "memory=[]\n",
    "head, current, pre=None, None, None\n",
    "dataArray=[\"다현\", \"정연\", \"쯔위\", \"사나\", \"지효\"]\n",
    "\n",
    "if __name__==\"__main__\":\n",
    "\n",
    "    node=Node()\n",
    "    node.data=dataArray[0]\n",
    "    head=node\n",
    "    memory.append(node)\n",
    "\n",
    "    for data in dataArray[1:]:\n",
    "        pre=node\n",
    "        node=Node()\n",
    "        node.data=data\n",
    "        pre.link=node\n",
    "        memory.append(node)\n",
    "        \n",
    "    printNodes(head)\n",
    "\n",
    "    insert_node(\"다현\", \"화사\")\n",
    "    printNodes(head)\n",
    "\n",
    "    insert_node(\"사나\", \"솔라\")\n",
    "    printNodes(head)\n",
    "\n",
    "    insert_node(\"재남\", \"문별\")\n",
    "    printNodes(head)\n",
    "\n",
    "\n",
    "\n",
    "    "
   ]
  },
  {
   "cell_type": "code",
   "execution_count": 28,
   "metadata": {},
   "outputs": [
    {
     "name": "stdout",
     "output_type": "stream",
     "text": [
      "다현 정연 쯔위 사나 지효 \n",
      "정연 쯔위 사나 지효 \n",
      "정연 사나 지효 \n",
      "정연 사나 \n"
     ]
    }
   ],
   "source": [
    "class Node():\n",
    "    def __init__ (self):\n",
    "        self.data=None\n",
    "        self.link=None\n",
    "\n",
    "def printNodes(start):\n",
    "    current=start\n",
    "    if current==None:\n",
    "         return\n",
    "    print(current.data, end=' ')\n",
    "    while current.link !=None:\n",
    "        current=current.link\n",
    "        print(current.data, end=' ')\n",
    "    print( )\n",
    "\n",
    "\n",
    "def delete_node(deleteData):\n",
    "    global memory, head, current, pre\n",
    "\n",
    "    if head.data ==deleteData: #첫 번째 노드 삭제\n",
    "        current=head\n",
    "        head=head.link\n",
    "        del(current)\n",
    "        return\n",
    "    \n",
    "    current=head\n",
    "    while current.link !=None: #첫 번째 외 노드 삭제\n",
    "        pre=current\n",
    "        current=current.link\n",
    "        if current.data==deleteData:\n",
    "            pre.link=current.link\n",
    "            del(current)\n",
    "            return\n",
    "    \n",
    "    node=Node()\n",
    "\n",
    "memory=[]\n",
    "head, current, pre=None, None, None\n",
    "dataArray=[\"다현\", \"정연\", \"쯔위\", \"사나\", \"지효\"]\n",
    "\n",
    "if __name__==\"__main__\":\n",
    "\n",
    "    node=Node()\n",
    "    node.data=dataArray[0] #첫 번째 노드\n",
    "    head=node\n",
    "    memory.append(node)\n",
    "\n",
    "    for data in dataArray[1:]: #두 번째부터\n",
    "        pre=node\n",
    "        node=Node()\n",
    "        node.data=data\n",
    "        pre.link=node\n",
    "        memory.append(node)\n",
    "        \n",
    "    printNodes(head)\n",
    "\n",
    "    delete_node(\"다현\")\n",
    "    printNodes(head)\n",
    "\n",
    "    delete_node(\"쯔위\")\n",
    "    printNodes(head)\n",
    "\n",
    "    delete_node(\"지효\")\n",
    "    printNodes(head)\n",
    "\n"
   ]
  },
  {
   "cell_type": "code",
   "execution_count": 32,
   "metadata": {},
   "outputs": [
    {
     "name": "stdout",
     "output_type": "stream",
     "text": [
      "다현 정연 쯔위 사나 지효 \n",
      "# 첫 노드가 삭제됨 #\n",
      "정연 쯔위 사나 지효 \n",
      "# 중간 노드가 삭제됨 #\n",
      "정연 사나 지효 \n",
      "# 중간 노드가 삭제됨 #\n",
      "정연 지효 \n",
      "# 삭제된 노드가 없음 #\n",
      "정연 지효 \n"
     ]
    }
   ],
   "source": [
    "class Node():\n",
    "    def __init__ (self):\n",
    "        self.data=None\n",
    "        self.link=None\n",
    "\n",
    "def printNodes(start):\n",
    "    current=start\n",
    "    if current==None:\n",
    "         return\n",
    "    print(current.data, end=' ')\n",
    "    while current.link !=None:\n",
    "        current=current.link\n",
    "        print(current.data, end=' ')\n",
    "    print( )\n",
    "\n",
    "\n",
    "def delete_node(deleteData):\n",
    "    global memory, head, current, pre\n",
    "\n",
    "    if head.data ==deleteData: #첫 번째 노드 삭제\n",
    "        current=head\n",
    "        head=head.link\n",
    "        del(current)\n",
    "        print(\"# 첫 노드가 삭제됨 #\")\n",
    "        return\n",
    "    \n",
    "    current=head\n",
    "    while current.link !=None: #첫 번째 외 노드 삭제\n",
    "        pre=current\n",
    "        current=current.link\n",
    "        if current.data==deleteData:\n",
    "            pre.link=current.link\n",
    "            del(current)\n",
    "            print(\"# 중간 노드가 삭제됨 #\")\n",
    "            return\n",
    "        \n",
    "    print(\"# 삭제된 노드가 없음 #\")\n",
    "    \n",
    "    node=Node()\n",
    "\n",
    "memory=[]\n",
    "head, current, pre=None, None, None\n",
    "dataArray=[\"다현\", \"정연\", \"쯔위\", \"사나\", \"지효\"]\n",
    "\n",
    "if __name__==\"__main__\":\n",
    "\n",
    "    node=Node()\n",
    "    node.data=dataArray[0] #첫 번째 노드\n",
    "    head=node\n",
    "    memory.append(node)\n",
    "\n",
    "    for data in dataArray[1:]: #두 번째부터\n",
    "        pre=node\n",
    "        node=Node()\n",
    "        node.data=data\n",
    "        pre.link=node\n",
    "        memory.append(node)\n",
    "        \n",
    "    printNodes(head)\n",
    "\n",
    "    delete_node(\"다현\")\n",
    "    printNodes(head)\n",
    "\n",
    "    delete_node(\"쯔위\")\n",
    "    printNodes(head)\n",
    "\n",
    "    delete_node(\"사나\")\n",
    "    printNodes(head)\n",
    "\n",
    "    delete_node(\"재남\")\n",
    "    printNodes(head)"
   ]
  },
  {
   "cell_type": "markdown",
   "metadata": {},
   "source": [
    "노드 검색하고 반환하는 함수"
   ]
  },
  {
   "cell_type": "code",
   "execution_count": 33,
   "metadata": {},
   "outputs": [
    {
     "name": "stdout",
     "output_type": "stream",
     "text": [
      "다현 정연 쯔위 사나 지효 \n",
      "다현\n",
      "쯔위\n",
      "None\n"
     ]
    }
   ],
   "source": [
    "class Node():\n",
    "    def __init__ (self):\n",
    "        self.data=None\n",
    "        self.link=None\n",
    "\n",
    "def printNodes(start):\n",
    "    current=start\n",
    "    if current==None:\n",
    "         return\n",
    "    print(current.data, end=' ')\n",
    "    while current.link !=None:\n",
    "        current=current.link\n",
    "        print(current.data, end=' ')\n",
    "    print( )\n",
    "\n",
    "\n",
    "def find_node(findData):\n",
    "    global memory, head, current, pre\n",
    "    \n",
    "    current=head\n",
    "\n",
    "    if current.data==findData:\n",
    "        return current\n",
    "    while current.link !=None:\n",
    "        current=current.link\n",
    "        if current.data==findData:\n",
    "            return current\n",
    "    return Node() # 빈 노드 바노한\n",
    "\n",
    "memory=[]\n",
    "head, current, pre=None, None, None\n",
    "dataArray=[\"다현\", \"정연\", \"쯔위\", \"사나\", \"지효\"]\n",
    "\n",
    "if __name__==\"__main__\":\n",
    "\n",
    "    node=Node()\n",
    "    node.data=dataArray[0] #첫 번째 노드\n",
    "    head=node\n",
    "    memory.append(node)\n",
    "\n",
    "    for data in dataArray[1:]: #두 번째부터\n",
    "        pre=node\n",
    "        node=Node()\n",
    "        node.data=data\n",
    "        pre.link=node\n",
    "        memory.append(node)\n",
    "        \n",
    "    printNodes(head)\n",
    "\n",
    "    fNode=find_node(\"다현\")\n",
    "    print(fNode.data)\n",
    "\n",
    "    fNode=find_node(\"쯔위\")\n",
    "    print(fNode.data)\n",
    "\n",
    "    fNode=find_node(\"재남\")\n",
    "    print(fNode.data)"
   ]
  },
  {
   "cell_type": "markdown",
   "metadata": {},
   "source": [
    "응용-이름 순서대로 저장하는 프로그램, 2차원 데이터"
   ]
  },
  {
   "cell_type": "code",
   "execution_count": 1,
   "metadata": {},
   "outputs": [
    {
     "name": "stdout",
     "output_type": "stream",
     "text": [
      "['지민', '010-1111-1111'] \n",
      "['정국', '010-2222-2222'] ['지민', '010-1111-1111'] \n",
      "['뷔', '010-3333-3333'] ['정국', '010-2222-2222'] ['지민', '010-1111-1111'] \n",
      "['뷔', '010-3333-3333'] ['슈가', '010-4444-4444'] ['정국', '010-2222-2222'] ['지민', '010-1111-1111'] \n",
      "['뷔', '010-3333-3333'] ['슈가', '010-4444-4444'] ['정국', '010-2222-2222'] ['지민', '010-1111-1111'] ['진', '010-5555-5555'] \n"
     ]
    }
   ],
   "source": [
    "\n",
    "class Node():\n",
    "    def __init__ (self):\n",
    "        self.data=None\n",
    "        self.link=None\n",
    "\n",
    "def printNodes(start):\n",
    "    current=start\n",
    "    if current==None:\n",
    "         return\n",
    "    print(current.data, end=' ')\n",
    "    while current.link !=None:\n",
    "        current=current.link\n",
    "        print(current.data, end=' ')\n",
    "    print( )\n",
    "\n",
    "\n",
    "def makeSimpleLinkedList(name):\n",
    "    global memory, head, current, pre\n",
    "    printNodes(head)\n",
    "\n",
    "    node=Node()\n",
    "    node.data=name\n",
    "    memory.append(node)\n",
    "\n",
    "    #첫 번째 노드일 때\n",
    "    if head==None:\n",
    "        head=node\n",
    "        return\n",
    "    \n",
    "    if head.data[0]>name[0]:\n",
    "        node.link=head\n",
    "        head=node\n",
    "        return\n",
    "    \n",
    "    #중간 노드로 삽입하는 경우\n",
    "    current=head\n",
    "    while current.link !=None:\n",
    "        pre=current\n",
    "        current=current.link\n",
    "        if current.data[0]>name[0]:\n",
    "            pre.link=node\n",
    "            node.link=current\n",
    "            return\n",
    "    \n",
    "    #삽입하는 노드가 가장 큰 경우\n",
    "    current.link=node\n",
    "\n",
    "memory=[]\n",
    "head, current, pre=None, None, None\n",
    "dataArray=[[\"지민\", \"010-1111-1111\"], [\"정국\", \"010-2222-2222\"], [\"뷔\", \"010-3333-3333\"],\n",
    "           [\"슈가\", \"010-4444-4444\"], [\"진\", \"010-5555-5555\"]] #2차원 배열\n",
    "\n",
    "if __name__==\"__main__\":\n",
    "\n",
    "    for data in dataArray:\n",
    "        makeSimpleLinkedList(data)\n",
    "    \n",
    "    printNodes(head)"
   ]
  },
  {
   "cell_type": "markdown",
   "metadata": {},
   "source": [
    "선형: 검색용\n",
    "단순연결:수정용"
   ]
  }
 ],
 "metadata": {
  "kernelspec": {
   "display_name": "Python 3",
   "language": "python",
   "name": "python3"
  },
  "language_info": {
   "codemirror_mode": {
    "name": "ipython",
    "version": 3
   },
   "file_extension": ".py",
   "mimetype": "text/x-python",
   "name": "python",
   "nbconvert_exporter": "python",
   "pygments_lexer": "ipython3",
   "version": "3.13.2"
  }
 },
 "nbformat": 4,
 "nbformat_minor": 2
}
