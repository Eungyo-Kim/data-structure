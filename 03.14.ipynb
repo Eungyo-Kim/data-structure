{
 "cells": [
  {
   "cell_type": "code",
   "execution_count": 2,
   "id": "6409593e",
   "metadata": {},
   "outputs": [
    {
     "name": "stdout",
     "output_type": "stream",
     "text": [
      "원판 1: A --> B\n",
      "원판 2: A --> C\n",
      "원판 1: B --> C\n",
      "원판 3: A --> B\n",
      "원판 1: C --> A\n",
      "원판 2: C --> B\n",
      "원판 1: A --> B\n",
      "원판 4: A --> C\n",
      "원판 1: B --> C\n",
      "원판 2: B --> A\n",
      "원판 1: C --> A\n",
      "원판 3: B --> C\n",
      "원판 1: A --> B\n",
      "원판 2: A --> C\n",
      "원판 1: B --> C\n"
     ]
    }
   ],
   "source": [
    "def hanoi_tower(n, fr, tmp, to):\n",
    "    if (n==1):\n",
    "        print(\"원판 1: %s --> %s\" % (fr, to))\n",
    "    else :\n",
    "        hanoi_tower(n-1, fr, to, tmp)\n",
    "        print(\"원판 %d: %s --> %s\" % (n,fr, to))\n",
    "        hanoi_tower(n-1, tmp, fr, to)\n",
    "\n",
    "hanoi_tower(4, 'A', 'B', 'C')"
   ]
  },
  {
   "cell_type": "code",
   "execution_count": null,
   "id": "be9ad659",
   "metadata": {},
   "outputs": [],
   "source": []
  }
 ],
 "metadata": {
  "kernelspec": {
   "display_name": "Python 3 (ipykernel)",
   "language": "python",
   "name": "python3"
  },
  "language_info": {
   "codemirror_mode": {
    "name": "ipython",
    "version": 3
   },
   "file_extension": ".py",
   "mimetype": "text/x-python",
   "name": "python",
   "nbconvert_exporter": "python",
   "pygments_lexer": "ipython3",
   "version": "3.11.5"
  }
 },
 "nbformat": 4,
 "nbformat_minor": 5
}
