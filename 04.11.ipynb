{
 "cells": [
  {
   "cell_type": "code",
   "execution_count": 1,
   "metadata": {},
   "outputs": [
    {
     "name": "stdout",
     "output_type": "stream",
     "text": [
      "['다현', '정연', '쯔위', '사나', '지효']\n",
      "다현\n",
      "지효\n"
     ]
    }
   ],
   "source": [
    "katok=['다현', '정연', '쯔위', '사나', '지효']\n",
    "print(katok)\n",
    "\n",
    "print(katok[0])\n",
    "print(katok[4])"
   ]
  },
  {
   "cell_type": "code",
   "execution_count": 2,
   "metadata": {},
   "outputs": [
    {
     "name": "stdout",
     "output_type": "stream",
     "text": [
      "['다현', '정연', '쯔위', '사나', '지효', None]\n",
      "['다현', '정연', '쯔위', '사나', '지효', '모모']\n"
     ]
    }
   ],
   "source": [
    "katok.append(None)\n",
    "print(katok)\n",
    "\n",
    "katok[5]='모모'\n",
    "print(katok)"
   ]
  },
  {
   "cell_type": "code",
   "execution_count": 3,
   "metadata": {},
   "outputs": [
    {
     "name": "stdout",
     "output_type": "stream",
     "text": [
      "['다현', '정연', '쯔위', '사나', '지효', None, '모모']\n"
     ]
    }
   ],
   "source": [
    "katok.append(None)\n",
    "katok[6]=katok[5]\n",
    "katok[5]=None\n",
    "print(katok)"
   ]
  },
  {
   "cell_type": "code",
   "execution_count": 4,
   "metadata": {},
   "outputs": [
    {
     "name": "stdout",
     "output_type": "stream",
     "text": [
      "['다현', '정연', '쯔위', '사나', None, '지효', '모모']\n",
      "['다현', '정연', '쯔위', None, '사나', '지효', '모모']\n"
     ]
    }
   ],
   "source": [
    "katok[5]=katok[4]\n",
    "katok[4]=None\n",
    "print(katok)\n",
    "\n",
    "katok[4]=katok[3]\n",
    "katok[3]=None\n",
    "print(katok)"
   ]
  },
  {
   "cell_type": "code",
   "execution_count": 5,
   "metadata": {},
   "outputs": [
    {
     "name": "stdout",
     "output_type": "stream",
     "text": [
      "['다현', '정연', '쯔위', '미나', '사나', '지효', '모모']\n"
     ]
    }
   ],
   "source": [
    "katok[3]='미나'\n",
    "print(katok)"
   ]
  },
  {
   "cell_type": "code",
   "execution_count": 6,
   "metadata": {},
   "outputs": [
    {
     "name": "stdout",
     "output_type": "stream",
     "text": [
      "['다현', '정연', '쯔위', '미나', None, '지효', '모모']\n",
      "['다현', '정연', '쯔위', '미나', '지효', '모모', None]\n",
      "['다현', '정연', '쯔위', '미나', '지효', '모모']\n"
     ]
    }
   ],
   "source": [
    "katok[4]=None\n",
    "print(katok)\n",
    "\n",
    "katok[4]=katok[5]\n",
    "katok[5]=None\n",
    "katok[5]=katok[6]\n",
    "katok[6]=None\n",
    "print(katok)\n",
    "\n",
    "del(katok[6])\n",
    "print(katok)\n",
    "\n"
   ]
  },
  {
   "cell_type": "code",
   "execution_count": 9,
   "metadata": {},
   "outputs": [
    {
     "name": "stdout",
     "output_type": "stream",
     "text": [
      "['다현']\n"
     ]
    }
   ],
   "source": [
    "katok=[]\n",
    "katok.append(None)\n",
    "list_length = len(katok)\n",
    "katok[list_length-1]='다현'\n",
    "print(katok)"
   ]
  },
  {
   "cell_type": "code",
   "execution_count": 10,
   "metadata": {},
   "outputs": [
    {
     "name": "stdout",
     "output_type": "stream",
     "text": [
      "['다현', '정연']\n"
     ]
    }
   ],
   "source": [
    "katok.append(None)\n",
    "list_length = len(katok)\n",
    "katok[list_length-1]='정연'\n",
    "print(katok)"
   ]
  },
  {
   "cell_type": "code",
   "execution_count": 25,
   "metadata": {},
   "outputs": [
    {
     "name": "stdout",
     "output_type": "stream",
     "text": [
      "['다현', '정연']\n"
     ]
    }
   ],
   "source": [
    "list=[]\n",
    "\n",
    "def add_data(object):\n",
    "    list.append(None)\n",
    "    list_length = len(list)\n",
    "    list[list_length-1]= object\n",
    "\n",
    "add_data('다현')\n",
    "add_data('정연')\n",
    "\n",
    "print(list)"
   ]
  },
  {
   "cell_type": "code",
   "execution_count": null,
   "metadata": {},
   "outputs": [
    {
     "name": "stdout",
     "output_type": "stream",
     "text": [
      "['다현', '정연']\n"
     ]
    }
   ],
   "source": [
    "list=[]\n",
    "\n",
    "def add_data(object):\n",
    "    list.append(None)\n",
    "    list_length = len(list)\n",
    "    list[list_length-1]= object\n",
    "\n",
    "add_data('다현')\n",
    "add_data('정연')\n",
    "\n",
    "print(list)"
   ]
  },
  {
   "cell_type": "code",
   "execution_count": 49,
   "metadata": {},
   "outputs": [
    {
     "name": "stdout",
     "output_type": "stream",
     "text": [
      "['다현', '정연', '솔라', '쯔위', '사나', '지효', '문별']\n"
     ]
    }
   ],
   "source": [
    "list=[\"다현\", \"정연\", \"쯔위\", \"사나\", \"지효\"]\n",
    "\n",
    "def insert_data(nth, friend):\n",
    "    list.append(None)\n",
    "    list_length=len(list)\n",
    "\n",
    "    for i in range(list_length-1, nth, -1):\n",
    "        list[i]=list[i-1]\n",
    "        list[i-1]=None\n",
    "\n",
    "    list[nth]=friend\n",
    "\n",
    "insert_data(2, '솔라')\n",
    "insert_data(6, '문별')\n",
    "print(list)"
   ]
  },
  {
   "cell_type": "code",
   "execution_count": 76,
   "metadata": {},
   "outputs": [
    {
     "name": "stdout",
     "output_type": "stream",
     "text": [
      "['다현', '정연', '사나', '지효', None]\n"
     ]
    }
   ],
   "source": [
    "list=[\"다현\", \"정연\", \"쯔위\", \"사나\", \"지효\"]\n",
    "\n",
    "def delete_data(nth):\n",
    "    \n",
    "    list[nth]=None\n",
    "    list_length=len(list)\n",
    "\n",
    "    for i in range(nth+1, list_length):\n",
    "        list[i-1]=list[i]\n",
    "        list[i]=None\n",
    "\n",
    "delete_data(2)\n",
    "print(list)"
   ]
  },
  {
   "cell_type": "code",
   "execution_count": null,
   "metadata": {},
   "outputs": [],
   "source": [
    "list=[\"다현\", \"정연\", \"쯔위\", \"사나\", \"지효\"]\n",
    "\n",
    "def delete_data(nth):\n",
    "    \n",
    "    if nth<0 or nth>len(list):\n",
    "        print(\"데이터를 삭제할 범위를 벗어났습니다.\")\n",
    "\n",
    "    for _ in range(len(list)-nth):\n",
    "        list_length=len(list)\n",
    "        list[nth]=None\n",
    "\n",
    "        for i in range(nth+1, list_length):\n",
    "            list[i-1]=list[i]\n",
    "            list[i]=None\n",
    "        del(list[nth-1])\n",
    "\n",
    "delete_data(2)\n",
    "print(list)"
   ]
  },
  {
   "cell_type": "code",
   "execution_count": 87,
   "metadata": {},
   "outputs": [],
   "source": [
    "list=[]\n",
    "\n",
    "def select_data():\n",
    "    number=input(\"선택하세요(1: 추가, 2:삽입, 3:삭제, 4: 종료)-->\")\n",
    "\n",
    "    list_length=len(list)\n",
    "    \n",
    "    if (number==1):\n",
    "         list.append(None)\n",
    "         list[list_length-1]= input(\"추가할 데이터-->\")\n",
    "    \n",
    "    elif (number==2):\n",
    "         list.append(None)\n",
    "         nth=input(\"삽입할 위치-->\")\n",
    "         for i in range(list_length-1, nth, -1):\n",
    "          list[i]=list[i-1]\n",
    "          list[i-1]=None\n",
    "         list[nth]=input(\"추가할 데이터-->\")\n",
    "    \n",
    "    elif (number==3):\n",
    "         nth=input(\"삭제할 위치-->\")\n",
    "         list[nth]=None\n",
    "         for i in range(nth+1, list_length):\n",
    "            list[i-1]=list[i]\n",
    "            list[i]=None\n",
    "        \n",
    "    elif (number==4):\n",
    "          print(list)\n",
    "\n",
    "select_data()"
   ]
  },
  {
   "cell_type": "code",
   "execution_count": 97,
   "metadata": {},
   "outputs": [
    {
     "name": "stdout",
     "output_type": "stream",
     "text": [
      "P(x) = +7X^3 -4X^2 0X^1 +5X^0 \n",
      "x값: 4\n",
      "389\n"
     ]
    }
   ],
   "source": [
    "\n",
    "#함수 선언\n",
    "def printPoly(p_x):\n",
    "    term = len(p_x)-1 #최고차항 숫자 = 배열길이 -1\n",
    "    polyStr=\"P(x) = \"\n",
    "\n",
    "    for i in range(len(px)):\n",
    "        coef=p_x[i] #계수\n",
    "\n",
    "        if (coef>0):\n",
    "            polyStr+=\"+\"\n",
    "        polyStr+=str(coef)+\"X^\"+str(term)+\" \"\n",
    "        term-=1\n",
    "    return polyStr\n",
    "\n",
    "def calcPoly(xVal, p_x):\n",
    "    retValue=0\n",
    "    term=len(p_x)-1 #최고차항 숫자 = 배열길이 -1\n",
    "    for i in range(len(px)):\n",
    "        coef=p_x[i] #계수\n",
    "        retValue +=coef*xValue**term\n",
    "        term-=1\n",
    "    return retValue\n",
    "\n",
    "#전역변수 선언\n",
    "px=[7, -4, 0, 5]\n",
    "\n",
    "#메인 코드\n",
    "if __name__ ==\"__main__\":\n",
    "    pStr=printPoly(px)\n",
    "    print(pStr)\n",
    "\n",
    "    xValue=int(input(\"X값 -->\"))\n",
    "\n",
    "    pxValue=calcPoly(xValue, px)\n",
    "    print(\"x값: %d\" % xValue)\n",
    "    print(pxValue)"
   ]
  },
  {
   "cell_type": "code",
   "execution_count": 102,
   "metadata": {},
   "outputs": [
    {
     "name": "stdout",
     "output_type": "stream",
     "text": [
      "P(x) = 7X^3 -4X^2 +5X^0 \n",
      "x값: 3\n",
      "158\n"
     ]
    }
   ],
   "source": [
    "#함수 선언\n",
    "def printPoly(p_x):\n",
    "    term = len(p_x)-1 #최고차항 숫자 = 배열길이 -1\n",
    "    polyStr=\"P(x) = \"\n",
    "\n",
    "    for i in range(len(px)):\n",
    "        coef=p_x[i] #계수\n",
    "\n",
    "        if coef==0:\n",
    "            term-=1\n",
    "            continue\n",
    "        if (coef>=0 and i !=0):\n",
    "            polyStr+=\"+\"\n",
    "        polyStr+=str(coef)+\"X^\"+str(term)+\" \"\n",
    "        term-=1\n",
    "    return polyStr\n",
    "\n",
    "def calcPoly(xVal, p_x):\n",
    "    retValue=0\n",
    "    term=len(p_x)-1 #최고차항 숫자 = 배열길이 -1\n",
    "    for i in range(len(px)):\n",
    "        coef=p_x[i] #계수\n",
    "        retValue +=coef*xValue**term\n",
    "        term-=1\n",
    "    return retValue\n",
    "\n",
    "#전역변수 선언\n",
    "px=[7, -4, 0, 5]\n",
    "\n",
    "#메인 코드\n",
    "if __name__ ==\"__main__\":\n",
    "    pStr=printPoly(px)\n",
    "    print(pStr)\n",
    "\n",
    "    xValue=int(input(\"X값 -->\"))\n",
    "\n",
    "    pxValue=calcPoly(xValue, px)\n",
    "    print(\"x값: %d\" % xValue)\n",
    "    print(pxValue)"
   ]
  },
  {
   "cell_type": "code",
   "execution_count": 107,
   "metadata": {},
   "outputs": [
    {
     "name": "stdout",
     "output_type": "stream",
     "text": [
      "P(x) = +7X^300 -4X^20 +5X^0 \n",
      "x값: 4\n",
      "29046608982166950709586855045838128057087123625697058299969601307834569679890357024797949342629726560017385206279105524276766057527882427155208123838797745809428272623806168619286533\n"
     ]
    }
   ],
   "source": [
    "#함수 선언\n",
    "def printPoly(t_x, p_x):\n",
    "    polyStr=\"P(x) = \"\n",
    "\n",
    "    for i in range(len(px)):\n",
    "        term=t_x[i] #항 차수\n",
    "        coef=p_x[i] #계수\n",
    "\n",
    "        if (coef>=0):\n",
    "            polyStr+=\"+\"\n",
    "        polyStr+=str(coef)+\"X^\"+str(term)+\" \"\n",
    "    return polyStr\n",
    "\n",
    "def calcPoly(xVal, t_x, p_x):\n",
    "    retValue=0\n",
    "\n",
    "    for i in range(len(px)):\n",
    "        term=t_x[i] # 항 차수\n",
    "        coef=p_x[i] #계수\n",
    "        retValue +=coef*xValue**term\n",
    "    return retValue\n",
    "\n",
    "#전역변수 선언\n",
    "tx=[300, 20, 0]\n",
    "px=[7, -4, 5]\n",
    "\n",
    "#메인 코드\n",
    "if __name__ ==\"__main__\":\n",
    "    pStr=printPoly(tx, px)\n",
    "    print(pStr)\n",
    "\n",
    "    xValue=int(input(\"X값 -->\"))\n",
    "\n",
    "    pxValue=calcPoly(xValue, tx, px)\n",
    "    print(\"x값: %d\" % xValue)\n",
    "    print(pxValue)"
   ]
  }
 ],
 "metadata": {
  "kernelspec": {
   "display_name": "Python 3",
   "language": "python",
   "name": "python3"
  },
  "language_info": {
   "codemirror_mode": {
    "name": "ipython",
    "version": 3
   },
   "file_extension": ".py",
   "mimetype": "text/x-python",
   "name": "python",
   "nbconvert_exporter": "python",
   "pygments_lexer": "ipython3",
   "version": "3.13.2"
  }
 },
 "nbformat": 4,
 "nbformat_minor": 2
}
