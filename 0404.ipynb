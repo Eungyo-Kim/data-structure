{
 "cells": [
  {
   "cell_type": "code",
   "execution_count": 79,
   "metadata": {},
   "outputs": [
    {
     "data": {
      "text/plain": [
       "{1, 2, 3, 6, 7}"
      ]
     },
     "execution_count": 79,
     "metadata": {},
     "output_type": "execute_result"
    }
   ],
   "source": [
    "mySet1={1, 2, 3, 4, 5}\n",
    "mySet2={4, 5, 6, 7}\n",
    "mySet1 & mySet2\n",
    "mySet1 | mySet2\n",
    "mySet1 - mySet2\n",
    "mySet1 ^ mySet2"
   ]
  },
  {
   "cell_type": "code",
   "execution_count": 80,
   "metadata": {},
   "outputs": [
    {
     "data": {
      "text/plain": [
       "{1, 2, 3, 6, 7}"
      ]
     },
     "execution_count": 80,
     "metadata": {},
     "output_type": "execute_result"
    }
   ],
   "source": [
    "mySet1.intersection(mySet2)\n",
    "mySet1.union(mySet2)\n",
    "mySet1.difference(mySet2)\n",
    "mySet1.symmetric_difference(mySet2)"
   ]
  },
  {
   "cell_type": "code",
   "execution_count": 81,
   "metadata": {},
   "outputs": [
    {
     "data": {
      "text/plain": [
       "'파이썬최고'"
      ]
     },
     "execution_count": 81,
     "metadata": {},
     "output_type": "execute_result"
    }
   ],
   "source": [
    "ss='파이썬'+'최고'\n",
    "ss"
   ]
  },
  {
   "cell_type": "code",
   "execution_count": 82,
   "metadata": {},
   "outputs": [
    {
     "data": {
      "text/plain": [
       "'파이썬파이썬파이썬'"
      ]
     },
     "execution_count": 82,
     "metadata": {},
     "output_type": "execute_result"
    }
   ],
   "source": [
    "ss='파이썬'*3\n",
    "ss"
   ]
  },
  {
   "cell_type": "code",
   "execution_count": 83,
   "metadata": {},
   "outputs": [
    {
     "data": {
      "text/plain": [
       "7"
      ]
     },
     "execution_count": 83,
     "metadata": {},
     "output_type": "execute_result"
    }
   ],
   "source": [
    "ss='파이썬1234'\n",
    "len(ss)"
   ]
  },
  {
   "cell_type": "code",
   "execution_count": 84,
   "metadata": {},
   "outputs": [
    {
     "data": {
      "text/plain": [
       "'자'"
      ]
     },
     "execution_count": 84,
     "metadata": {},
     "output_type": "execute_result"
    }
   ],
   "source": [
    "ss='자료구조&알고리즘'\n",
    "ss[0]"
   ]
  },
  {
   "cell_type": "code",
   "execution_count": 85,
   "metadata": {},
   "outputs": [
    {
     "name": "stdout",
     "output_type": "stream",
     "text": [
      "2\n",
      "4 21 21 -1\n",
      "4 21 21\n",
      "True False True\n"
     ]
    }
   ],
   "source": [
    "ss='파이썬 공부는 즐겁습니다. 물론 모든 공부가 다 재미있지는 않죠. ^^'\n",
    "print(ss.count('공부'))\n",
    "print(ss.find('공부'), ss.rfind('공부'), ss.find('공부', 5), ss.find('없다'))\n",
    "print(ss.index('공부'), ss.rindex('공부'), ss.index('공부', 5)) \n",
    "print(ss.startswith('파이썬'), ss.startswith('파이썬', 10), ss.endswith('^^'))\n",
    "\n",
    "#뭔가 출력 결과 맞는지 확인하는거 시험 나올듯 (인덱스 번호)"
   ]
  },
  {
   "cell_type": "code",
   "execution_count": 86,
   "metadata": {},
   "outputs": [
    {
     "data": {
      "text/plain": [
       "['Python을', '열심히', '공부', '중']"
      ]
     },
     "execution_count": 86,
     "metadata": {},
     "output_type": "execute_result"
    }
   ],
   "source": [
    "ss='Python을 열심히 공부 중'\n",
    "ss.split()"
   ]
  },
  {
   "cell_type": "code",
   "execution_count": 87,
   "metadata": {},
   "outputs": [
    {
     "data": {
      "text/plain": [
       "['하나', '둘', '셋']"
      ]
     },
     "execution_count": 87,
     "metadata": {},
     "output_type": "execute_result"
    }
   ],
   "source": [
    "ss='하나:둘:셋'\n",
    "ss.split(':')"
   ]
  },
  {
   "cell_type": "code",
   "execution_count": 88,
   "metadata": {},
   "outputs": [
    {
     "data": {
      "text/plain": [
       "['하나', '둘', '셋']"
      ]
     },
     "execution_count": 88,
     "metadata": {},
     "output_type": "execute_result"
    }
   ],
   "source": [
    "ss='하나\\n둘\\n셋'\n",
    "ss.splitlines()"
   ]
  },
  {
   "cell_type": "code",
   "execution_count": 89,
   "metadata": {},
   "outputs": [
    {
     "data": {
      "text/plain": [
       "'파%이%썬'"
      ]
     },
     "execution_count": 89,
     "metadata": {},
     "output_type": "execute_result"
    }
   ],
   "source": [
    "ss='%'\n",
    "ss.join('파이썬')"
   ]
  },
  {
   "cell_type": "code",
   "execution_count": 90,
   "metadata": {},
   "outputs": [
    {
     "data": {
      "text/plain": [
       "[2025, 4, 4]"
      ]
     },
     "execution_count": 90,
     "metadata": {},
     "output_type": "execute_result"
    }
   ],
   "source": [
    "before=['2025', '04', '04']\n",
    "after=list(map(int, before))\n",
    "after"
   ]
  },
  {
   "cell_type": "code",
   "execution_count": 91,
   "metadata": {},
   "outputs": [
    {
     "data": {
      "text/plain": [
       "(10, 20, 30)"
      ]
     },
     "execution_count": 91,
     "metadata": {},
     "output_type": "execute_result"
    }
   ],
   "source": [
    "tt1=(10, 20, 30); tt1"
   ]
  },
  {
   "cell_type": "code",
   "execution_count": 92,
   "metadata": {},
   "outputs": [
    {
     "data": {
      "text/plain": [
       "(10, 20, 30)"
      ]
     },
     "execution_count": 92,
     "metadata": {},
     "output_type": "execute_result"
    }
   ],
   "source": [
    "tt2= 10, 20, 30; tt2"
   ]
  },
  {
   "cell_type": "code",
   "execution_count": 93,
   "metadata": {},
   "outputs": [
    {
     "data": {
      "text/plain": [
       "(10,)"
      ]
     },
     "execution_count": 93,
     "metadata": {},
     "output_type": "execute_result"
    }
   ],
   "source": [
    "tt3=(10); tt3 #튜플에 단일 원소만 존재할 때 쉼표를 붙여줘야 함\n",
    "tt4=10; tt4\n",
    "tt5=(10,);tt5 #맞는 형태\n",
    "tt6=10,; tt6"
   ]
  },
  {
   "cell_type": "code",
   "execution_count": 94,
   "metadata": {},
   "outputs": [
    {
     "ename": "AttributeError",
     "evalue": "'tuple' object has no attribute 'append'",
     "output_type": "error",
     "traceback": [
      "\u001b[31m---------------------------------------------------------------------------\u001b[39m",
      "\u001b[31mAttributeError\u001b[39m                            Traceback (most recent call last)",
      "\u001b[36mCell\u001b[39m\u001b[36m \u001b[39m\u001b[32mIn[94]\u001b[39m\u001b[32m, line 2\u001b[39m\n\u001b[32m      1\u001b[39m \u001b[38;5;66;03m#오류\u001b[39;00m\n\u001b[32m----> \u001b[39m\u001b[32m2\u001b[39m \u001b[43mtt1\u001b[49m\u001b[43m.\u001b[49m\u001b[43mappend\u001b[49m(\u001b[32m40\u001b[39m)\n\u001b[32m      3\u001b[39m tt1[\u001b[32m0\u001b[39m]=\u001b[32m40\u001b[39m\n\u001b[32m      4\u001b[39m \u001b[38;5;28;01mdel\u001b[39;00m(tt1[\u001b[32m0\u001b[39m])\n",
      "\u001b[31mAttributeError\u001b[39m: 'tuple' object has no attribute 'append'"
     ]
    }
   ],
   "source": [
    "#오류\n",
    "tt1.append(40)\n",
    "tt1[0]=40\n",
    "del(tt1[0])"
   ]
  },
  {
   "cell_type": "code",
   "execution_count": null,
   "metadata": {},
   "outputs": [
    {
     "data": {
      "text/plain": [
       "60"
      ]
     },
     "execution_count": 23,
     "metadata": {},
     "output_type": "execute_result"
    }
   ],
   "source": [
    "tt1=(10, 20, 30, 40)\n",
    "tt1[0]\n",
    "tt1[0]+tt1[1]+tt1[2]"
   ]
  },
  {
   "cell_type": "code",
   "execution_count": null,
   "metadata": {},
   "outputs": [
    {
     "data": {
      "text/plain": [
       "(20, 30)"
      ]
     },
     "execution_count": 24,
     "metadata": {},
     "output_type": "execute_result"
    }
   ],
   "source": [
    "tt1[1:3]"
   ]
  },
  {
   "cell_type": "code",
   "execution_count": null,
   "metadata": {},
   "outputs": [
    {
     "name": "stdout",
     "output_type": "stream",
     "text": [
      "(10, 20, 30, 40, 'A', 'B')\n",
      "('A', 'B', 'A', 'B', 'A', 'B')\n"
     ]
    }
   ],
   "source": [
    "tt2=('A', 'B')\n",
    "print(tt1+tt2)\n",
    "print(tt2*3)"
   ]
  },
  {
   "cell_type": "code",
   "execution_count": null,
   "metadata": {},
   "outputs": [
    {
     "name": "stdout",
     "output_type": "stream",
     "text": [
      "(10, 20, 30, 40)\n"
     ]
    }
   ],
   "source": [
    "myTuple=(10, 20, 30)\n",
    "myList=list(myTuple)\n",
    "myList.append(40)\n",
    "myTuple=tuple(myList)\n",
    "print(myTuple)"
   ]
  },
  {
   "cell_type": "code",
   "execution_count": null,
   "metadata": {},
   "outputs": [
    {
     "name": "stdout",
     "output_type": "stream",
     "text": [
      "**로또 번호 생성을 시작합니다.**\n",
      "몇 번을 뽑을까요?\n"
     ]
    },
    {
     "ename": "NameError",
     "evalue": "name 'j' is not defined",
     "output_type": "error",
     "traceback": [
      "\u001b[31m---------------------------------------------------------------------------\u001b[39m",
      "\u001b[31mNameError\u001b[39m                                 Traceback (most recent call last)",
      "\u001b[36mCell\u001b[39m\u001b[36m \u001b[39m\u001b[32mIn[28]\u001b[39m\u001b[32m, line 3\u001b[39m\n\u001b[32m      1\u001b[39m \u001b[38;5;28mprint\u001b[39m(\u001b[33m'\u001b[39m\u001b[33m**로또 번호 생성을 시작합니다.**\u001b[39m\u001b[33m'\u001b[39m)\n\u001b[32m      2\u001b[39m \u001b[38;5;28mprint\u001b[39m(\u001b[33m'\u001b[39m\u001b[33m몇 번을 뽑을까요?\u001b[39m\u001b[33m'\u001b[39m)\n\u001b[32m----> \u001b[39m\u001b[32m3\u001b[39m \u001b[38;5;28minput\u001b[39m(\u001b[33m'\u001b[39m\u001b[38;5;132;01m%d\u001b[39;00m\u001b[33m'\u001b[39m % \u001b[43mj\u001b[49m)\n\u001b[32m      4\u001b[39m \u001b[38;5;28;01mfor\u001b[39;00m i \u001b[38;5;129;01min\u001b[39;00m \u001b[38;5;28mrange\u001b[39m[\u001b[32m1\u001b[39m:\u001b[32m46\u001b[39m]:\n\u001b[32m      5\u001b[39m     i+=\u001b[32m1\u001b[39m\n",
      "\u001b[31mNameError\u001b[39m: name 'j' is not defined"
     ]
    }
   ],
   "source": [
    "print('**로또 번호 생성을 시작합니다.**')\n",
    "print('몇 번을 뽑을까요?')\n",
    "input('%d' % j)\n",
    "for i in range[1:46]:\n",
    "    i+=1\n",
    "print('자동번호-->')\n",
    "for _ in range[:j]:\n",
    "    print('%d', i)"
   ]
  },
  {
   "cell_type": "code",
   "execution_count": null,
   "metadata": {},
   "outputs": [
    {
     "name": "stdout",
     "output_type": "stream",
     "text": [
      "**로또 번호 생성을 시작합니다.**\n",
      "자동번호-->  2  3  7 10 11 28 \n"
     ]
    }
   ],
   "source": [
    "import random\n",
    "\n",
    "totalLotto=[]\n",
    "lotto=[]\n",
    "pickNum=0\n",
    "count=0\n",
    "\n",
    "print('**로또 번호 생성을 시작합니다.**')\n",
    "count=int(input('몇 번을 뽑을까요?'))\n",
    "\n",
    "for _ in range(count):\n",
    "    lotto=[]\n",
    "    while True:\n",
    "        pickNum=random.randint(1,45)\n",
    "        if pickNum not in lotto:\n",
    "            lotto.append(pickNum)\n",
    "        if len(lotto) >=6:\n",
    "            break\n",
    "    totalLotto.append(lotto)\n",
    "for lotto in totalLotto:\n",
    "    lotto.sort()\n",
    "    print('자동번호-->', end=' ')\n",
    "    for i in range(0,6):\n",
    "        print(\"%2d\" %lotto[i], end=' ')\n",
    "    print()"
   ]
  },
  {
   "cell_type": "code",
   "execution_count": null,
   "metadata": {},
   "outputs": [
    {
     "name": "stdout",
     "output_type": "stream",
     "text": [
      "원문 \n",
      "진달래꽃\n",
      "나 보기가 역겨워\n",
      "가실 때에는\n",
      "말없이 고이 보내드리오리다.\n",
      "\n",
      "_____________________\n",
      "문자 빈도수(4회 이상)\n",
      "_____________________\n"
     ]
    }
   ],
   "source": [
    "poet='''\n",
    "진달래꽃\n",
    "나 보기가 역겨워\n",
    "가실 때에는\n",
    "말없이 고이 보내드리오리다.\n",
    "'''\n",
    "\n",
    "\n",
    "countDic={} #'문자':개수 형태로 함...\n",
    "#즉 'key':ch\n",
    "\n",
    "if __name__ ==\"__main__\":\n",
    "    for ch in poet: #poet에서 한 글자씩 추출하기\n",
    "        if ch.isalpha(): #문자만 가져옴.\n",
    "            if ch in countDic:\n",
    "                countDic[ch]+=1 #countDic에 ch가 있으면 또 추가\n",
    "            else:\n",
    "                countDic[ch]=1 #countDic에 ch가 없으면 딕셔너리에 추가.\n",
    "    print('원문', poet)\n",
    "    print('_____________________')\n",
    "    print('문자 빈도수(4회 이상)')\n",
    "    print('_____________________')\n",
    "    \n",
    "    for key in countDic: #문자 있는 대로 반복\n",
    "        if countDic[key]>=4: #ch가 4이상인 key 글자\n",
    "            print(countDic)\n",
    "            print(key, '-->', countDic[key])\n"
   ]
  },
  {
   "cell_type": "code",
   "execution_count": null,
   "metadata": {},
   "outputs": [
    {
     "name": "stdout",
     "output_type": "stream",
     "text": [
      "list_1에 입력된 내용: ['참고사항', '프로그래밍을통한문제해결', 'upside down']\n",
      "list_1의 index[1]과 list_2의 idex[1]을 연결(+)하면 프로그래밍을통한문제해결2023 이다.\n"
     ]
    }
   ],
   "source": [
    "list_1=[]\n",
    "for i in 0, 1, 2:\n",
    "    list_1.append(input('원하는 단어를 입력하세요>>'))\n",
    "list_2=[\"시간\", \"2023\", \"가나다라\"]\n",
    "print(\"list_1에 입력된 내용:\", list_1)\n",
    "print(\"list_1의 index[1]과 list_2의 idex[1]을 연결(+)하면\", list_1[1]+list_2[1], \"이다.\")"
   ]
  },
  {
   "cell_type": "code",
   "execution_count": 106,
   "metadata": {},
   "outputs": [
    {
     "name": "stdout",
     "output_type": "stream",
     "text": [
      "당신이 찾는 땅은/는 5개 있습니다.\n"
     ]
    }
   ],
   "source": [
    "dict={}\n",
    "for _ in range(3):\n",
    "    key=input(\"게임 아이템 입력하기>>>\")\n",
    "    ch=int(input(\"구매할 개수는 몇 개 입니까?\"))\n",
    "    dict[key]=ch\n",
    "\n",
    "dict\n",
    "\n",
    "result=input(\"당신이 확인하고 싶은 아이템은 무엇입니까?\")\n",
    "test=dict.get(result)\n",
    "\n",
    "if result in dict:\n",
    "    print(\"당신이 찾는 %s은/는 %d개 있습니다.\" % (result, test))\n",
    "else:\n",
    "    print(\"당신이 찾는 %s은/는 없습니다.\" % result)\n",
    "\n"
   ]
  },
  {
   "cell_type": "code",
   "execution_count": null,
   "metadata": {},
   "outputs": [],
   "source": [
    "def list_set(a, b):"
   ]
  }
 ],
 "metadata": {
  "kernelspec": {
   "display_name": "Python 3",
   "language": "python",
   "name": "python3"
  },
  "language_info": {
   "codemirror_mode": {
    "name": "ipython",
    "version": 3
   },
   "file_extension": ".py",
   "mimetype": "text/x-python",
   "name": "python",
   "nbconvert_exporter": "python",
   "pygments_lexer": "ipython3",
   "version": "3.13.2"
  }
 },
 "nbformat": 4,
 "nbformat_minor": 2
}
