{
 "cells": [
  {
   "cell_type": "code",
   "execution_count": 2,
   "id": "2df85fa9",
   "metadata": {},
   "outputs": [
    {
     "name": "stdout",
     "output_type": "stream",
     "text": [
      "100보다 크군요\n"
     ]
    }
   ],
   "source": [
    "a=200\n",
    "\n",
    "if a<100:\n",
    "    print(\"100보다 작군요\")\n",
    "else:\n",
    "    print(\"100보다 크군요\")"
   ]
  },
  {
   "cell_type": "code",
   "execution_count": 4,
   "id": "29dbb7b7",
   "metadata": {},
   "outputs": [
    {
     "name": "stdout",
     "output_type": "stream",
     "text": [
      "안녕하세요? for 문을 공부 중입니다. ^^\n",
      "안녕하세요? for 문을 공부 중입니다. ^^\n",
      "안녕하세요? for 문을 공부 중입니다. ^^\n"
     ]
    }
   ],
   "source": [
    "for i in range(0, 3, 1) :\n",
    "    print(\"안녕하세요? for 문을 공부 중입니다. ^^\")"
   ]
  },
  {
   "cell_type": "code",
   "execution_count": 5,
   "id": "ea0466b4",
   "metadata": {},
   "outputs": [
    {
     "name": "stdout",
     "output_type": "stream",
     "text": [
      "안녕하세요? for 문을 공부 중입니다. ^^\n",
      "안녕하세요? for 문을 공부 중입니다. ^^\n",
      "안녕하세요? for 문을 공부 중입니다. ^^\n"
     ]
    }
   ],
   "source": [
    "for i in [0, 1, 2] :\n",
    "    print(\"안녕하세요? for 문을 공부 중입니다. ^^\")"
   ]
  },
  {
   "cell_type": "code",
   "execution_count": 9,
   "id": "d4f009f2",
   "metadata": {},
   "outputs": [
    {
     "name": "stdout",
     "output_type": "stream",
     "text": [
      "0 1 2 3 4 5 6 7 8 9 "
     ]
    }
   ],
   "source": [
    "for i in range(10):\n",
    "    print(i, end=' ')"
   ]
  },
  {
   "cell_type": "code",
   "execution_count": 10,
   "id": "0adb2d31",
   "metadata": {},
   "outputs": [
    {
     "name": "stdout",
     "output_type": "stream",
     "text": [
      "4 6 8 "
     ]
    }
   ],
   "source": [
    "for i in range(4, 10, 2):\n",
    "    print(i, end=' ')"
   ]
  },
  {
   "cell_type": "code",
   "execution_count": 11,
   "id": "f2056edf",
   "metadata": {},
   "outputs": [
    {
     "name": "stdout",
     "output_type": "stream",
     "text": [
      "10 8 6 "
     ]
    }
   ],
   "source": [
    "for i in range(10, 4, -2):\n",
    "    print(i, end=' ')"
   ]
  },
  {
   "cell_type": "code",
   "execution_count": 12,
   "id": "271696f9",
   "metadata": {},
   "outputs": [
    {
     "name": "stdout",
     "output_type": "stream",
     "text": [
      "0 1 2 3 "
     ]
    }
   ],
   "source": [
    "for i in [0, 1, 2, 3]:\n",
    "    print(i, end=' ')"
   ]
  },
  {
   "cell_type": "code",
   "execution_count": 13,
   "id": "67d8a343",
   "metadata": {},
   "outputs": [
    {
     "name": "stdout",
     "output_type": "stream",
     "text": [
      "0 1 2 3 "
     ]
    }
   ],
   "source": [
    "s=[0, 1, 2, 3]\n",
    "for i in s:\n",
    "    print(i, end=' ')"
   ]
  },
  {
   "cell_type": "code",
   "execution_count": 14,
   "id": "6089cd03",
   "metadata": {},
   "outputs": [
    {
     "name": "stdout",
     "output_type": "stream",
     "text": [
      "0 1 2 3 "
     ]
    }
   ],
   "source": [
    "for i in (0, 1, 2, 3):\n",
    "    print(i, end=' ')"
   ]
  },
  {
   "cell_type": "code",
   "execution_count": 16,
   "id": "abd2c048",
   "metadata": {},
   "outputs": [
    {
     "name": "stdout",
     "output_type": "stream",
     "text": [
      "1 : 10 2 : 20 3 : 30 10 : 40 "
     ]
    }
   ],
   "source": [
    "d={1:10, 2:20, 3:30, 10:40}\n",
    "for i in d:\n",
    "    print(i, ':', d[i], end=' ')"
   ]
  },
  {
   "cell_type": "code",
   "execution_count": 17,
   "id": "ec6372d5",
   "metadata": {},
   "outputs": [
    {
     "name": "stdout",
     "output_type": "stream",
     "text": [
      "3 1 10 2 "
     ]
    }
   ],
   "source": [
    "for i in {1, 2, 3, 10}:\n",
    "    print(i, end=' ')"
   ]
  },
  {
   "cell_type": "code",
   "execution_count": 18,
   "id": "c5ee6104",
   "metadata": {},
   "outputs": [
    {
     "name": "stdout",
     "output_type": "stream",
     "text": [
      "t-e-s-t-s-e-q-"
     ]
    }
   ],
   "source": [
    "for i in 'testseq':\n",
    "    print(i, end='-')"
   ]
  },
  {
   "cell_type": "code",
   "execution_count": 19,
   "id": "4b35dfca",
   "metadata": {},
   "outputs": [
    {
     "name": "stdout",
     "output_type": "stream",
     "text": [
      "100과 200의 plus()함수 결과는 300\n"
     ]
    }
   ],
   "source": [
    "def plus(v1, v2):\n",
    "    result=0\n",
    "    result=v1+v2\n",
    "    return result\n",
    "\n",
    "hap=0\n",
    "\n",
    "hap=plus(100, 200)\n",
    "print(\"100과 200의 plus()함수 결과는 %d\" % hap)"
   ]
  },
  {
   "cell_type": "code",
   "execution_count": 21,
   "id": "b6958389",
   "metadata": {},
   "outputs": [
    {
     "name": "stdout",
     "output_type": "stream",
     "text": [
      "func1()에서 a값 10\n",
      "func2()에서 a값 20\n"
     ]
    }
   ],
   "source": [
    "def func1():\n",
    "    a=10\n",
    "    print(\"func1()에서 a값 %d\" % a) #지역변수 a값 사용\n",
    "\n",
    "def func2():\n",
    "    print(\"func2()에서 a값 %d\" % a) #전역변수 a값 사용\n",
    "\n",
    "a=20\n",
    "\n",
    "func1()\n",
    "func2()"
   ]
  },
  {
   "cell_type": "code",
   "execution_count": 22,
   "id": "8ad17f61",
   "metadata": {},
   "outputs": [
    {
     "name": "stdout",
     "output_type": "stream",
     "text": [
      "func1()에서 a값 10\n",
      "func2()에서 a값 10\n"
     ]
    }
   ],
   "source": [
    "def func1():\n",
    "    global a\n",
    "    a=10\n",
    "    print(\"func1()에서 a값 %d\" % a)\n",
    "\n",
    "def func2():\n",
    "    print(\"func2()에서 a값 %d\" % a)\n",
    "    \n",
    "a=20\n",
    "\n",
    "func1()\n",
    "func2()"
   ]
  },
  {
   "cell_type": "code",
   "execution_count": 23,
   "id": "d2495378",
   "metadata": {},
   "outputs": [
    {
     "name": "stdout",
     "output_type": "stream",
     "text": [
      "multi()에서 돌려준 값 ==> 300, -100\n"
     ]
    }
   ],
   "source": [
    "def multi(v1, v2):\n",
    "    retList=[]\n",
    "    res1=v1+v2\n",
    "    res2=v1-v2\n",
    "    retList.append(res1)\n",
    "    retList.append(res2)\n",
    "    return retList\n",
    "\n",
    "myList = []\n",
    "hap, sub=0,0\n",
    "\n",
    "myList=multi(100, 200)\n",
    "hap=myList[0]\n",
    "sub=myList[1]\n",
    "print(\"multi()에서 돌려준 값 ==> %d, %d\" % (hap, sub))"
   ]
  },
  {
   "cell_type": "code",
   "execution_count": 31,
   "id": "a46cde31",
   "metadata": {},
   "outputs": [
    {
     "name": "stdout",
     "output_type": "stream",
     "text": [
      "multi()에서 반환한 값==> [120, 80, 2000, 5, 0, 10000000000000000000000000000000000000000]\n"
     ]
    }
   ],
   "source": [
    "def multi(v1, v2):\n",
    "    retList=[]\n",
    "    res1=v1+v2\n",
    "    res2=v1-v2\n",
    "    res3=v1*v2\n",
    "    res4=v1//v2\n",
    "    res5=v1%v2\n",
    "    res6=v1**v2\n",
    "    retList.append(res1)\n",
    "    retList.append(res2)\n",
    "    retList.append(res3)\n",
    "    retList.append(res4)\n",
    "    retList.append(res5)\n",
    "    retList.append(res6)\n",
    "    return retList\n",
    "\n",
    "myList=[]\n",
    "hap, sub, a, b, c, d=0,0,0,0,0,0\n",
    "\n",
    "myList=multi(100, 20)\n",
    "hap=myList[0]\n",
    "sub=myList[1]\n",
    "a=myList[2]\n",
    "b=myList[3]\n",
    "c=myList[4]\n",
    "d=myList[5]\n",
    "\n",
    "print(\"multi()에서 반환한 값==> [%d, %d, %d, %d, %d, %d]\"% (hap, sub, a, b, c, d))"
   ]
  },
  {
   "cell_type": "markdown",
   "id": "fa2cd36b",
   "metadata": {},
   "source": [
    "list, dictionary 함수 외워서 자료구조에 활용"
   ]
  },
  {
   "cell_type": "code",
   "execution_count": 32,
   "id": "7c895d7e",
   "metadata": {},
   "outputs": [
    {
     "name": "stdout",
     "output_type": "stream",
     "text": [
      "1번째 숫자 : 10\n",
      "2번째 숫자 : 20\n",
      "3번째 숫자 : 30\n",
      "4번째 숫자 : 40\n",
      " 합계 ==> 100\n"
     ]
    }
   ],
   "source": [
    "#1차원 리스트\n",
    "aa=[]\n",
    "for i in range(0,4):\n",
    "    aa.append(0)\n",
    "\n",
    "for i in range(0, 4):\n",
    "    aa[i]=int(input( str(i+1) + \"번째 숫자 : \" ))\n",
    "\n",
    "hap=0\n",
    "for i in range(0, 4):\n",
    "    hap+= aa[i]\n",
    "    \n",
    "print(\" 합계 ==> %d\" % hap)"
   ]
  },
  {
   "cell_type": "code",
   "execution_count": 33,
   "id": "e795648c",
   "metadata": {},
   "outputs": [
    {
     "name": "stdout",
     "output_type": "stream",
     "text": [
      "현재 리스트: [30, 10, 20]\n",
      "append(4) 후의 리스트: [30, 10, 20, 40]\n",
      "pop()으로 추출한 값: 40\n",
      "pop() 후의 리스트: [30, 10, 20]\n",
      "sort() 후의 리스트: [10, 20, 30]\n",
      "reverse() 후의 리스트: [30, 20, 10]\n",
      "20 값의 위치: 1\n",
      "insert(2,222) 후의 리스트: [30, 20, 222, 10]\n",
      "remove(222) 후의 리스트: [30, 20, 10]\n",
      "extend([77, 88, 77]) 후의 리스트: [30, 20, 10, 77, 88, 77]\n",
      "77 값의 개수: 2\n"
     ]
    }
   ],
   "source": [
    "#리스트 함수 연습\n",
    "myList=[30, 10, 20]\n",
    "print(\"현재 리스트: %s\" % myList)\n",
    "\n",
    "myList.append(40)\n",
    "print(\"append(4) 후의 리스트: %s\" % myList)\n",
    "\n",
    "print(\"pop()으로 추출한 값: %s\" % myList.pop())\n",
    "print(\"pop() 후의 리스트: %s\" % myList)\n",
    "\n",
    "myList.sort()\n",
    "print(\"sort() 후의 리스트: %s\" % myList)\n",
    "\n",
    "myList.reverse()\n",
    "print(\"reverse() 후의 리스트: %s\" % myList)\n",
    "\n",
    "print(\"20 값의 위치: %d\" % myList.index(20))\n",
    "\n",
    "myList.insert(2, 222)\n",
    "print(\"insert(2,222) 후의 리스트: %s\" % myList)\n",
    "\n",
    "myList.remove(222)\n",
    "print(\"remove(222) 후의 리스트: %s\" % myList)\n",
    "\n",
    "myList.extend([77, 88, 77])\n",
    "print(\"extend([77, 88, 77]) 후의 리스트: %s\" % myList)\n",
    "\n",
    "print(\"77 값의 개수: %d\" % myList.count(77))"
   ]
  },
  {
   "cell_type": "code",
   "execution_count": 34,
   "id": "a3ee49e9",
   "metadata": {},
   "outputs": [
    {
     "name": "stdout",
     "output_type": "stream",
     "text": [
      "  1   2   3   4  \n",
      "  5   6   7   8  \n",
      "  9  10  11  12  \n"
     ]
    }
   ],
   "source": [
    "#2차원 배열\n",
    "list1=[]\n",
    "list2=[]\n",
    "value=1\n",
    "for i in range(0, 3) :\n",
    "    for k in range (0, 4) :\n",
    "        list1.append(value)\n",
    "        value+=1\n",
    "    list2.append(list1)\n",
    "    list1=[]\n",
    "    \n",
    "for i in range(0, 3) :\n",
    "    for k in range(0, 4) :\n",
    "        print(\"%3d\" % list2[i][k], end=\" \")\n",
    "    print(\" \")"
   ]
  },
  {
   "cell_type": "code",
   "execution_count": 37,
   "id": "3aef5712",
   "metadata": {},
   "outputs": [
    {
     "name": "stdout",
     "output_type": "stream",
     "text": [
      " 12  11  10  \n",
      "  9   8   7  \n",
      "  6   5   4  \n",
      "  3   2   1  \n",
      "배열의 합계 ==> 78\n"
     ]
    }
   ],
   "source": [
    "list1=[]\n",
    "list2=[]\n",
    "value=12\n",
    "for i in range(0, 4):\n",
    "    for k in range (0, 3):\n",
    "        list1.append(value)\n",
    "        value-=1\n",
    "    list2.append(list1)\n",
    "    list1=[]\n",
    "    \n",
    "for i in range(0, 4):\n",
    "    for k in range (0, 3):\n",
    "        print(\"%3d\" % list2[i][k], end=\" \")\n",
    "    print(\" \")\n",
    "    \n",
    "hap=0\n",
    "for i in range(0, 4):\n",
    "    for k in range (0, 3):\n",
    "        hap+=list2[i][k]\n",
    "\n",
    "print(\"배열의 합계 ==> %d\" % hap)"
   ]
  },
  {
   "cell_type": "code",
   "execution_count": 38,
   "id": "2db7ee22",
   "metadata": {},
   "outputs": [
    {
     "data": {
      "text/plain": [
       "[1, 2, 3, 4, 5]"
      ]
     },
     "execution_count": 38,
     "metadata": {},
     "output_type": "execute_result"
    }
   ],
   "source": [
    "#캄프리헨션 방식 코드 작성\n",
    "numList=[]\n",
    "for num in range(1, 6):\n",
    "    numList.append(num)\n",
    "numList"
   ]
  },
  {
   "cell_type": "code",
   "execution_count": 42,
   "id": "32629ea6",
   "metadata": {},
   "outputs": [
    {
     "data": {
      "text/plain": [
       "[1, 2, 3, 4, 5]"
      ]
     },
     "execution_count": 42,
     "metadata": {},
     "output_type": "execute_result"
    }
   ],
   "source": [
    "numList=[]\n",
    "numList=[num for num in range(1, 6)]\n",
    "numList"
   ]
  },
  {
   "cell_type": "code",
   "execution_count": 43,
   "id": "0f2313b0",
   "metadata": {},
   "outputs": [
    {
     "data": {
      "text/plain": [
       "[1, 4, 9, 16, 25]"
      ]
     },
     "execution_count": 43,
     "metadata": {},
     "output_type": "execute_result"
    }
   ],
   "source": [
    "numList=[num*num for num in range(1, 6)]\n",
    "numList"
   ]
  },
  {
   "cell_type": "code",
   "execution_count": 44,
   "id": "4271214e",
   "metadata": {},
   "outputs": [
    {
     "data": {
      "text/plain": [
       "[3, 6, 9, 12, 15, 18]"
      ]
     },
     "execution_count": 44,
     "metadata": {},
     "output_type": "execute_result"
    }
   ],
   "source": [
    "numList=[num for num in range(1, 21) if num %3==0]\n",
    "numList"
   ]
  },
  {
   "cell_type": "code",
   "execution_count": 45,
   "id": "20f56f37",
   "metadata": {},
   "outputs": [
    {
     "data": {
      "text/plain": [
       "[[0, 0, 0, 0], [0, 0, 0, 0], [0, 0, 0, 0]]"
      ]
     },
     "execution_count": 45,
     "metadata": {},
     "output_type": "execute_result"
    }
   ],
   "source": [
    "list2=[[0 for _ in range(4)] for _ in range(3)]\n",
    "list2"
   ]
  },
  {
   "cell_type": "code",
   "execution_count": 60,
   "id": "1577f68a",
   "metadata": {},
   "outputs": [
    {
     "data": {
      "text/plain": [
       "{'학번': 20236666, '이름': '김ㅇㅇ', '학과': 'AI소프트웨어학부 인공지능공학전공'}"
      ]
     },
     "execution_count": 60,
     "metadata": {},
     "output_type": "execute_result"
    }
   ],
   "source": [
    "student1={'학번':20236666,\n",
    "          '이름':'김ㅇㅇ',\n",
    "          '학과':'환경공학과'\n",
    "}\n",
    "student1['연락처']='010-1234-5678'\n",
    "student1['학과']='AI소프트웨어학부 인공지능공학전공'\n",
    "del(student1['연락처'])\n",
    "student1"
   ]
  },
  {
   "cell_type": "code",
   "execution_count": 63,
   "id": "cd337af6",
   "metadata": {},
   "outputs": [
    {
     "data": {
      "text/plain": [
       "dict_keys(['학번', '이름', '학과'])"
      ]
     },
     "execution_count": 63,
     "metadata": {},
     "output_type": "execute_result"
    }
   ],
   "source": [
    "student1.keys()"
   ]
  },
  {
   "cell_type": "code",
   "execution_count": 64,
   "id": "a9f9f085",
   "metadata": {},
   "outputs": [
    {
     "data": {
      "text/plain": [
       "['학번', '이름', '학과']"
      ]
     },
     "execution_count": 64,
     "metadata": {},
     "output_type": "execute_result"
    }
   ],
   "source": [
    "list(student1.keys())"
   ]
  },
  {
   "cell_type": "code",
   "execution_count": 65,
   "id": "139687bd",
   "metadata": {},
   "outputs": [
    {
     "data": {
      "text/plain": [
       "dict_values([20236666, '김ㅇㅇ', 'AI소프트웨어학부 인공지능공학전공'])"
      ]
     },
     "execution_count": 65,
     "metadata": {},
     "output_type": "execute_result"
    }
   ],
   "source": [
    "student1.values()"
   ]
  },
  {
   "cell_type": "code",
   "execution_count": 66,
   "id": "cc11f524",
   "metadata": {},
   "outputs": [
    {
     "data": {
      "text/plain": [
       "dict_items([('학번', 20236666), ('이름', '김ㅇㅇ'), ('학과', 'AI소프트웨어학부 인공지능공학전공')])"
      ]
     },
     "execution_count": 66,
     "metadata": {},
     "output_type": "execute_result"
    }
   ],
   "source": [
    "student1.items()"
   ]
  },
  {
   "cell_type": "code",
   "execution_count": 68,
   "id": "b8389ce3",
   "metadata": {},
   "outputs": [
    {
     "data": {
      "text/plain": [
       "True"
      ]
     },
     "execution_count": 68,
     "metadata": {},
     "output_type": "execute_result"
    }
   ],
   "source": [
    "'이름' in student1"
   ]
  },
  {
   "cell_type": "code",
   "execution_count": 70,
   "id": "9f8ab239",
   "metadata": {},
   "outputs": [
    {
     "data": {
      "text/plain": [
       "False"
      ]
     },
     "execution_count": 70,
     "metadata": {},
     "output_type": "execute_result"
    }
   ],
   "source": [
    "'주소' in student1"
   ]
  }
 ],
 "metadata": {
  "kernelspec": {
   "display_name": "Python 3 (ipykernel)",
   "language": "python",
   "name": "python3"
  },
  "language_info": {
   "codemirror_mode": {
    "name": "ipython",
    "version": 3
   },
   "file_extension": ".py",
   "mimetype": "text/x-python",
   "name": "python",
   "nbconvert_exporter": "python",
   "pygments_lexer": "ipython3",
   "version": "3.11.5"
  }
 },
 "nbformat": 4,
 "nbformat_minor": 5
}
